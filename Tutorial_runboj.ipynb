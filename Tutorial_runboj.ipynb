{
 "cells": [
  {
   "cell_type": "markdown",
   "metadata": {},
   "source": [
    "## Introduction\n",
    "\n",
    "This tutorial will introduce you the basics in XGBoost algorithm, particularly focusing on regression predictive modeling problems. XGBoost is short for Extreme Gradient Boosting and is an cost-effective execution of the stochastic gradient boosting machine learning algorithm. We will use XGBoost to build a group of boosted trees, and use the continuous and cateforical data from Auto-MPG Dataset to predict the  'mpg' attribute. We are also going to visulize the XGBoost trees and explain the most important aspects or practical details of the math behind it."
   ]
  },
  {
   "cell_type": "markdown",
   "metadata": {},
   "source": [
    "### Tutorial content\n",
    "\n",
    "In this tutorial, we'll learn how to define the XGBRegressor model and predict regression data in Python, specifically using [XGBoost](https://xgboost.readthedocs.io/en/latest/), and package [GridSearchCV](https://scikit-learn.org/stable/modules/generated/sklearn.model_selection.GridSearchCV.html) which is a function that comes in Scikit-learn’s model_selection package, and package [Graphviz](https://graphviz.readthedocs.io/en/stable/) to draw the XGBoost trees.\n",
    "\n",
    "We'll be using data collected from the __Auto MPG Data Set__ from __UCI Machine Learning Repository__: http://archive.ics.uci.edu/ml/datasets/Auto+MPG. It should be noted that XGBoost is designed for large complicated data sets. However, to keep the examples from getting out of hand, we will use this rather simple data set to demonstrate the applicaton of XGBoost from start to finish. Also note that XGBoost can be applied to both classification and regression problems. Using the work flow shown in this tutorial, you can apply XGBoost to a large number of data sets.\n",
    "\n",
    "We will cover the following topics in this tutorial:\n",
    "- [Installing the Libraries](#Installing-the-libraries)\n",
    "- [Loading Data from a File](#Loading-Data-from-a-File)\n",
    "- [Formatting the Data for XGBoost](#Formatting-the-Data-for-XGBoost)\n",
    "- [Building a Preliminary XGBoost Model](#Building-a-Preliminary-XGBoost-Model)\n",
    "- [Optimizing Parameters with Cross Validation and GridSeach()](#Optimizing-Parameters-with-Cross-Validation-and-GridSeach())\n",
    "- [Visulizing the Optimized XGBoost Model](#Visulizing-the-Optimized-XGBoost-Model)\n",
    "- [Understanding the Basic Math](#Understanding-the-Basic-Math)"
   ]
  },
  {
   "cell_type": "markdown",
   "metadata": {},
   "source": [
    "## Installing the libraries"
   ]
  },
  {
   "cell_type": "markdown",
   "metadata": {},
   "source": [
    "Before getting started, you'll need to install the various libraries that we will use. You can install XGBoost, scikit-learn and Graphviz using `conda`:\n",
    "\n",
    "    $ conda install -c conda-forge xgboost\n",
    "    \n",
    "    $ conda install -c anaconda scikit-learn\n",
    "    \n",
    "    $ conda install graphviz python-graphviz\n",
    "    \n",
    "If you've already installed these packages for a while, it's recommended to update all of your Anaconda packages with the following command:\n",
    "\n",
    "    $ conda update --all\n",
    "\n",
    "There are some other very fundamental and essential packages in this tutorial, including numpy, pands, matplotlib, ..., which are all conda installable and therefore we will not linger nastily over the details. "
   ]
  },
  {
   "cell_type": "code",
   "execution_count": 345,
   "metadata": {},
   "outputs": [],
   "source": [
    "import warnings\n",
    "warnings.simplefilter('ignore')\n",
    "\n",
    "import numpy as np\n",
    "import pandas as pd\n",
    "import matplotlib.pyplot as plt\n",
    "import xgboost as xgb\n",
    "\n",
    "from sklearn.model_selection import train_test_split # to split data into training and testing sets\n",
    "from sklearn.model_selection import GridSearchCV # for cross validation\n",
    "from sklearn.metrics import mean_absolute_error # for model evaluation\n",
    "from sklearn.metrics import mean_squared_error\n",
    "from sklearn.metrics import r2_score"
   ]
  },
  {
   "cell_type": "markdown",
   "metadata": {},
   "source": [
    "***"
   ]
  },
  {
   "cell_type": "markdown",
   "metadata": {},
   "source": [
    "## Loading Data from a File"
   ]
  },
  {
   "cell_type": "markdown",
   "metadata": {},
   "source": [
    "Now that we've installed and loaded the libraries, let's load our __Auto MPG Data__. We first need to download the data and description from the UCI Machine Learning Repository website: http://archive.ics.uci.edu/ml/datasets/Auto+MPG and save them to a folder.\n",
    "\n",
    "We're going to load data provided under the name 'auto-mpg.data', which stores data in a specific shape wihtout header. We will also load the data description file 'auto-mpg.names'.\n",
    "\n",
    "As the '.data' file only contain numbers, we will first look into the description file using the following command:"
   ]
  },
  {
   "cell_type": "code",
   "execution_count": 346,
   "metadata": {},
   "outputs": [
    {
     "name": "stdout",
     "output_type": "stream",
     "text": [
      "1. Title: Auto-Mpg Data\n",
      "\n",
      "2. Sources:\n",
      "   (a) Origin:  This dataset was taken from the StatLib library which is\n",
      "                maintained at Carnegie Mellon University. The dataset was \n",
      "                used in the 1983 American Statistical Association Exposition.\n",
      "   (c) Date: July 7, 1993\n",
      "\n",
      "3. Past Usage:\n",
      "    -  See 2b (above)\n",
      "    -  Quinlan,R. (1993). Combining Instance-Based and Model-Based Learning.\n",
      "       In Proceedings on the Tenth International Conference of Machine \n",
      "       Learning, 236-243, University of Massachusetts, Amherst. Morgan\n",
      "       Kaufmann.\n",
      "\n",
      "4. Relevant Information:\n",
      "\n",
      "   This dataset is a slightly modified version of the dataset provided in\n",
      "   the StatLib library.  In line with the use by Ross Quinlan (1993) in\n",
      "   predicting the attribute \"mpg\", 8 of the original instances were removed \n",
      "   because they had unknown values for the \"mpg\" attribute.  The original \n",
      "   dataset is available in the file \"auto-mpg.data-original\".\n",
      "\n",
      "   \"The data concerns city-cycle fuel consumption in miles per gallon,\n",
      "    to be predicted in terms of 3 multivalued discrete and 5 continuous\n",
      "    attributes.\" (Quinlan, 1993)\n",
      "\n",
      "5. Number of Instances: 398\n",
      "\n",
      "6. Number of Attributes: 9 including the class attribute\n",
      "\n",
      "7. Attribute Information:\n",
      "\n",
      "    1. mpg:           continuous\n",
      "    2. cylinders:     multi-valued discrete\n",
      "    3. displacement:  continuous\n",
      "    4. horsepower:    continuous\n",
      "    5. weight:        continuous\n",
      "    6. acceleration:  continuous\n",
      "    7. model year:    multi-valued discrete\n",
      "    8. origin:        multi-valued discrete\n",
      "    9. car name:      string (unique for each instance)\n",
      "\n",
      "8. Missing Attribute Values:  horsepower has 6 missing values\n",
      "\n",
      "\n"
     ]
    }
   ],
   "source": [
    "with open('/Users/rubyjiang/Desktop/15688_PDS/Tutorial/auto-mpg.names') as f:\n",
    "    print(f.read())"
   ]
  },
  {
   "cell_type": "markdown",
   "metadata": {},
   "source": [
    "We can see from the above information, there are in total 398 observations, each observation has 9 features, including __mpg__, __cylinders__,__displacement__, __horsepower__, __weight__, __acceleration__, __model year__, __origin__, and __car name__, among which horsepower has 6 missing values. Next, we are going to load the '.data' file into a data frame called df with header from the description using the following command:"
   ]
  },
  {
   "cell_type": "code",
   "execution_count": 347,
   "metadata": {},
   "outputs": [
    {
     "data": {
      "text/html": [
       "<div>\n",
       "<style scoped>\n",
       "    .dataframe tbody tr th:only-of-type {\n",
       "        vertical-align: middle;\n",
       "    }\n",
       "\n",
       "    .dataframe tbody tr th {\n",
       "        vertical-align: top;\n",
       "    }\n",
       "\n",
       "    .dataframe thead th {\n",
       "        text-align: right;\n",
       "    }\n",
       "</style>\n",
       "<table border=\"1\" class=\"dataframe\">\n",
       "  <thead>\n",
       "    <tr style=\"text-align: right;\">\n",
       "      <th></th>\n",
       "      <th>mpg</th>\n",
       "      <th>cylinders</th>\n",
       "      <th>displacement</th>\n",
       "      <th>horsepower</th>\n",
       "      <th>weight</th>\n",
       "      <th>acceleration</th>\n",
       "      <th>model year</th>\n",
       "      <th>origin</th>\n",
       "      <th>car name</th>\n",
       "    </tr>\n",
       "  </thead>\n",
       "  <tbody>\n",
       "    <tr>\n",
       "      <th>0</th>\n",
       "      <td>18.0</td>\n",
       "      <td>8</td>\n",
       "      <td>307.0</td>\n",
       "      <td>130.0</td>\n",
       "      <td>3504.0</td>\n",
       "      <td>12.0</td>\n",
       "      <td>70</td>\n",
       "      <td>1</td>\n",
       "      <td>chevrolet chevelle malibu</td>\n",
       "    </tr>\n",
       "    <tr>\n",
       "      <th>1</th>\n",
       "      <td>15.0</td>\n",
       "      <td>8</td>\n",
       "      <td>350.0</td>\n",
       "      <td>165.0</td>\n",
       "      <td>3693.0</td>\n",
       "      <td>11.5</td>\n",
       "      <td>70</td>\n",
       "      <td>1</td>\n",
       "      <td>buick skylark 320</td>\n",
       "    </tr>\n",
       "    <tr>\n",
       "      <th>2</th>\n",
       "      <td>18.0</td>\n",
       "      <td>8</td>\n",
       "      <td>318.0</td>\n",
       "      <td>150.0</td>\n",
       "      <td>3436.0</td>\n",
       "      <td>11.0</td>\n",
       "      <td>70</td>\n",
       "      <td>1</td>\n",
       "      <td>plymouth satellite</td>\n",
       "    </tr>\n",
       "    <tr>\n",
       "      <th>3</th>\n",
       "      <td>16.0</td>\n",
       "      <td>8</td>\n",
       "      <td>304.0</td>\n",
       "      <td>150.0</td>\n",
       "      <td>3433.0</td>\n",
       "      <td>12.0</td>\n",
       "      <td>70</td>\n",
       "      <td>1</td>\n",
       "      <td>amc rebel sst</td>\n",
       "    </tr>\n",
       "    <tr>\n",
       "      <th>4</th>\n",
       "      <td>17.0</td>\n",
       "      <td>8</td>\n",
       "      <td>302.0</td>\n",
       "      <td>140.0</td>\n",
       "      <td>3449.0</td>\n",
       "      <td>10.5</td>\n",
       "      <td>70</td>\n",
       "      <td>1</td>\n",
       "      <td>ford torino</td>\n",
       "    </tr>\n",
       "  </tbody>\n",
       "</table>\n",
       "</div>"
      ],
      "text/plain": [
       "    mpg  cylinders  displacement horsepower  weight  acceleration  model year  \\\n",
       "0  18.0          8         307.0      130.0  3504.0          12.0          70   \n",
       "1  15.0          8         350.0      165.0  3693.0          11.5          70   \n",
       "2  18.0          8         318.0      150.0  3436.0          11.0          70   \n",
       "3  16.0          8         304.0      150.0  3433.0          12.0          70   \n",
       "4  17.0          8         302.0      140.0  3449.0          10.5          70   \n",
       "\n",
       "   origin                   car name  \n",
       "0       1  chevrolet chevelle malibu  \n",
       "1       1          buick skylark 320  \n",
       "2       1         plymouth satellite  \n",
       "3       1              amc rebel sst  \n",
       "4       1                ford torino  "
      ]
     },
     "execution_count": 347,
     "metadata": {},
     "output_type": "execute_result"
    }
   ],
   "source": [
    "col_names = ['mpg','cylinders','displacement','horsepower','weight','acceleration','model year','origin','car name']\n",
    "df = pd.read_table('/Users/rubyjiang/Desktop/15688_PDS/Tutorial/auto-mpg.data', header=None, delim_whitespace=True, names=col_names)\n",
    "df.head()"
   ]
  },
  {
   "cell_type": "markdown",
   "metadata": {},
   "source": [
    "***\n",
    "\n",
    "## Formatting the Data for XGBoost\n",
    "From the description, we know that the last column 'car name' is unique for each instance, and will not be useful for regression. So we will leave out this variable. All other columns contains a lot of different values, so will keep the rest of them. For the sake of simplicity, I'm only showing to first 10 uniqe values for horsepower, acceleration, and model year."
   ]
  },
  {
   "cell_type": "code",
   "execution_count": 348,
   "metadata": {},
   "outputs": [
    {
     "data": {
      "text/plain": [
       "array([18., 15., 16., 17., 14., 24., 22., 21., 27., 26.])"
      ]
     },
     "execution_count": 348,
     "metadata": {},
     "output_type": "execute_result"
    }
   ],
   "source": [
    "df['mpg'].unique()[:10]"
   ]
  },
  {
   "cell_type": "code",
   "execution_count": 349,
   "metadata": {},
   "outputs": [
    {
     "data": {
      "text/plain": [
       "array([8, 4, 6, 3, 5])"
      ]
     },
     "execution_count": 349,
     "metadata": {},
     "output_type": "execute_result"
    }
   ],
   "source": [
    "df['cylinders'].unique()"
   ]
  },
  {
   "cell_type": "code",
   "execution_count": 350,
   "metadata": {},
   "outputs": [
    {
     "data": {
      "text/plain": [
       "array(['130.0', '165.0', '150.0', '140.0', '198.0', '220.0', '215.0',\n",
       "       '225.0', '190.0', '170.0'], dtype=object)"
      ]
     },
     "execution_count": 350,
     "metadata": {},
     "output_type": "execute_result"
    }
   ],
   "source": [
    "df['horsepower'].unique()[:10]"
   ]
  },
  {
   "cell_type": "code",
   "execution_count": 351,
   "metadata": {},
   "outputs": [
    {
     "data": {
      "text/plain": [
       "array([12. , 11.5, 11. , 10.5, 10. ,  9. ,  8.5,  8. ,  9.5, 15. ])"
      ]
     },
     "execution_count": 351,
     "metadata": {},
     "output_type": "execute_result"
    }
   ],
   "source": [
    "df['acceleration'].unique()[:10]"
   ]
  },
  {
   "cell_type": "code",
   "execution_count": 352,
   "metadata": {},
   "outputs": [
    {
     "data": {
      "text/plain": [
       "array([70, 71, 72, 73, 74, 75, 76, 77, 78, 79])"
      ]
     },
     "execution_count": 352,
     "metadata": {},
     "output_type": "execute_result"
    }
   ],
   "source": [
    "df['model year'].unique()[:10]"
   ]
  },
  {
   "cell_type": "code",
   "execution_count": 353,
   "metadata": {},
   "outputs": [
    {
     "data": {
      "text/plain": [
       "array([1, 3, 2])"
      ]
     },
     "execution_count": 353,
     "metadata": {},
     "output_type": "execute_result"
    }
   ],
   "source": [
    "df['origin'].unique()"
   ]
  },
  {
   "cell_type": "code",
   "execution_count": 354,
   "metadata": {},
   "outputs": [
    {
     "data": {
      "text/plain": [
       "305"
      ]
     },
     "execution_count": 354,
     "metadata": {},
     "output_type": "execute_result"
    }
   ],
   "source": [
    "len(df['car name'].unique())"
   ]
  },
  {
   "cell_type": "markdown",
   "metadata": {},
   "source": [
    "Let's get rid of the column named 'car name'."
   ]
  },
  {
   "cell_type": "code",
   "execution_count": 355,
   "metadata": {},
   "outputs": [
    {
     "data": {
      "text/html": [
       "<div>\n",
       "<style scoped>\n",
       "    .dataframe tbody tr th:only-of-type {\n",
       "        vertical-align: middle;\n",
       "    }\n",
       "\n",
       "    .dataframe tbody tr th {\n",
       "        vertical-align: top;\n",
       "    }\n",
       "\n",
       "    .dataframe thead th {\n",
       "        text-align: right;\n",
       "    }\n",
       "</style>\n",
       "<table border=\"1\" class=\"dataframe\">\n",
       "  <thead>\n",
       "    <tr style=\"text-align: right;\">\n",
       "      <th></th>\n",
       "      <th>mpg</th>\n",
       "      <th>cylinders</th>\n",
       "      <th>displacement</th>\n",
       "      <th>horsepower</th>\n",
       "      <th>weight</th>\n",
       "      <th>acceleration</th>\n",
       "      <th>model year</th>\n",
       "      <th>origin</th>\n",
       "    </tr>\n",
       "  </thead>\n",
       "  <tbody>\n",
       "    <tr>\n",
       "      <th>0</th>\n",
       "      <td>18.0</td>\n",
       "      <td>8</td>\n",
       "      <td>307.0</td>\n",
       "      <td>130.0</td>\n",
       "      <td>3504.0</td>\n",
       "      <td>12.0</td>\n",
       "      <td>70</td>\n",
       "      <td>1</td>\n",
       "    </tr>\n",
       "    <tr>\n",
       "      <th>1</th>\n",
       "      <td>15.0</td>\n",
       "      <td>8</td>\n",
       "      <td>350.0</td>\n",
       "      <td>165.0</td>\n",
       "      <td>3693.0</td>\n",
       "      <td>11.5</td>\n",
       "      <td>70</td>\n",
       "      <td>1</td>\n",
       "    </tr>\n",
       "    <tr>\n",
       "      <th>2</th>\n",
       "      <td>18.0</td>\n",
       "      <td>8</td>\n",
       "      <td>318.0</td>\n",
       "      <td>150.0</td>\n",
       "      <td>3436.0</td>\n",
       "      <td>11.0</td>\n",
       "      <td>70</td>\n",
       "      <td>1</td>\n",
       "    </tr>\n",
       "    <tr>\n",
       "      <th>3</th>\n",
       "      <td>16.0</td>\n",
       "      <td>8</td>\n",
       "      <td>304.0</td>\n",
       "      <td>150.0</td>\n",
       "      <td>3433.0</td>\n",
       "      <td>12.0</td>\n",
       "      <td>70</td>\n",
       "      <td>1</td>\n",
       "    </tr>\n",
       "    <tr>\n",
       "      <th>4</th>\n",
       "      <td>17.0</td>\n",
       "      <td>8</td>\n",
       "      <td>302.0</td>\n",
       "      <td>140.0</td>\n",
       "      <td>3449.0</td>\n",
       "      <td>10.5</td>\n",
       "      <td>70</td>\n",
       "      <td>1</td>\n",
       "    </tr>\n",
       "  </tbody>\n",
       "</table>\n",
       "</div>"
      ],
      "text/plain": [
       "    mpg  cylinders  displacement horsepower  weight  acceleration  model year  \\\n",
       "0  18.0          8         307.0      130.0  3504.0          12.0          70   \n",
       "1  15.0          8         350.0      165.0  3693.0          11.5          70   \n",
       "2  18.0          8         318.0      150.0  3436.0          11.0          70   \n",
       "3  16.0          8         304.0      150.0  3433.0          12.0          70   \n",
       "4  17.0          8         302.0      140.0  3449.0          10.5          70   \n",
       "\n",
       "   origin  \n",
       "0       1  \n",
       "1       1  \n",
       "2       1  \n",
       "3       1  \n",
       "4       1  "
      ]
     },
     "execution_count": 355,
     "metadata": {},
     "output_type": "execute_result"
    }
   ],
   "source": [
    "df.drop(['car name'], axis=1, inplace=True) # set axis=0 to remove rows, axis=1 to remove columns\n",
    "df.head()"
   ]
  },
  {
   "cell_type": "markdown",
   "metadata": {},
   "source": [
    "We have removed data that will not help us create an effective XGBoost model. Now we are ready to deal with __Missing Data__ in the __horsepower__ column. Let's first check out the data types of each feature."
   ]
  },
  {
   "cell_type": "code",
   "execution_count": 356,
   "metadata": {},
   "outputs": [
    {
     "data": {
      "text/plain": [
       "mpg             float64\n",
       "cylinders         int64\n",
       "displacement    float64\n",
       "horsepower       object\n",
       "weight          float64\n",
       "acceleration    float64\n",
       "model year        int64\n",
       "origin            int64\n",
       "dtype: object"
      ]
     },
     "execution_count": 356,
     "metadata": {},
     "output_type": "execute_result"
    }
   ],
   "source": [
    "df.dtypes"
   ]
  },
  {
   "cell_type": "markdown",
   "metadata": {},
   "source": [
    "If we look at the output above, we see that 'horsepower' looks like a bunch of numbers. However, if we look at the data type for 'horsepower', we see that it is an object. We usually get object when we have a mixture of numbers and characters. Let's check it out."
   ]
  },
  {
   "cell_type": "code",
   "execution_count": 357,
   "metadata": {},
   "outputs": [
    {
     "data": {
      "text/plain": [
       "array(['130.0', '165.0', '150.0', '140.0', '198.0', '220.0', '215.0',\n",
       "       '225.0', '190.0', '170.0', '160.0', '95.00', '97.00', '85.00',\n",
       "       '88.00', '46.00', '87.00', '90.00', '113.0', '200.0', '210.0',\n",
       "       '193.0', '?', '100.0', '105.0', '175.0', '153.0', '180.0', '110.0',\n",
       "       '72.00', '86.00', '70.00', '76.00', '65.00', '69.00', '60.00',\n",
       "       '80.00', '54.00', '208.0', '155.0', '112.0', '92.00', '145.0',\n",
       "       '137.0', '158.0', '167.0', '94.00', '107.0', '230.0', '49.00',\n",
       "       '75.00', '91.00', '122.0', '67.00', '83.00', '78.00', '52.00',\n",
       "       '61.00', '93.00', '148.0', '129.0', '96.00', '71.00', '98.00',\n",
       "       '115.0', '53.00', '81.00', '79.00', '120.0', '152.0', '102.0',\n",
       "       '108.0', '68.00', '58.00', '149.0', '89.00', '63.00', '48.00',\n",
       "       '66.00', '139.0', '103.0', '125.0', '133.0', '138.0', '135.0',\n",
       "       '142.0', '77.00', '62.00', '132.0', '84.00', '64.00', '74.00',\n",
       "       '116.0', '82.00'], dtype=object)"
      ]
     },
     "execution_count": 357,
     "metadata": {},
     "output_type": "execute_result"
    }
   ],
   "source": [
    "df['horsepower'].unique()"
   ]
  },
  {
   "cell_type": "markdown",
   "metadata": {},
   "source": [
    "You can find that there is a special character '?' in the 'horsepower' column. So we need to deal with this.\n",
    "\n",
    "One thing that is unique for XGBoost is that it determines default behavior for missing data. \n",
    "Before that, let's see how many rows are missing data."
   ]
  },
  {
   "cell_type": "code",
   "execution_count": 358,
   "metadata": {},
   "outputs": [
    {
     "data": {
      "text/plain": [
       "6"
      ]
     },
     "execution_count": 358,
     "metadata": {},
     "output_type": "execute_result"
    }
   ],
   "source": [
    "len(df.loc[df['horsepower']=='?'])"
   ]
  },
  {
   "cell_type": "markdown",
   "metadata": {},
   "source": [
    "We see that __6__ rows have missing values, let's look at them."
   ]
  },
  {
   "cell_type": "code",
   "execution_count": 359,
   "metadata": {},
   "outputs": [
    {
     "data": {
      "text/html": [
       "<div>\n",
       "<style scoped>\n",
       "    .dataframe tbody tr th:only-of-type {\n",
       "        vertical-align: middle;\n",
       "    }\n",
       "\n",
       "    .dataframe tbody tr th {\n",
       "        vertical-align: top;\n",
       "    }\n",
       "\n",
       "    .dataframe thead th {\n",
       "        text-align: right;\n",
       "    }\n",
       "</style>\n",
       "<table border=\"1\" class=\"dataframe\">\n",
       "  <thead>\n",
       "    <tr style=\"text-align: right;\">\n",
       "      <th></th>\n",
       "      <th>mpg</th>\n",
       "      <th>cylinders</th>\n",
       "      <th>displacement</th>\n",
       "      <th>horsepower</th>\n",
       "      <th>weight</th>\n",
       "      <th>acceleration</th>\n",
       "      <th>model year</th>\n",
       "      <th>origin</th>\n",
       "    </tr>\n",
       "  </thead>\n",
       "  <tbody>\n",
       "    <tr>\n",
       "      <th>32</th>\n",
       "      <td>25.0</td>\n",
       "      <td>4</td>\n",
       "      <td>98.0</td>\n",
       "      <td>?</td>\n",
       "      <td>2046.0</td>\n",
       "      <td>19.0</td>\n",
       "      <td>71</td>\n",
       "      <td>1</td>\n",
       "    </tr>\n",
       "    <tr>\n",
       "      <th>126</th>\n",
       "      <td>21.0</td>\n",
       "      <td>6</td>\n",
       "      <td>200.0</td>\n",
       "      <td>?</td>\n",
       "      <td>2875.0</td>\n",
       "      <td>17.0</td>\n",
       "      <td>74</td>\n",
       "      <td>1</td>\n",
       "    </tr>\n",
       "    <tr>\n",
       "      <th>330</th>\n",
       "      <td>40.9</td>\n",
       "      <td>4</td>\n",
       "      <td>85.0</td>\n",
       "      <td>?</td>\n",
       "      <td>1835.0</td>\n",
       "      <td>17.3</td>\n",
       "      <td>80</td>\n",
       "      <td>2</td>\n",
       "    </tr>\n",
       "    <tr>\n",
       "      <th>336</th>\n",
       "      <td>23.6</td>\n",
       "      <td>4</td>\n",
       "      <td>140.0</td>\n",
       "      <td>?</td>\n",
       "      <td>2905.0</td>\n",
       "      <td>14.3</td>\n",
       "      <td>80</td>\n",
       "      <td>1</td>\n",
       "    </tr>\n",
       "    <tr>\n",
       "      <th>354</th>\n",
       "      <td>34.5</td>\n",
       "      <td>4</td>\n",
       "      <td>100.0</td>\n",
       "      <td>?</td>\n",
       "      <td>2320.0</td>\n",
       "      <td>15.8</td>\n",
       "      <td>81</td>\n",
       "      <td>2</td>\n",
       "    </tr>\n",
       "    <tr>\n",
       "      <th>374</th>\n",
       "      <td>23.0</td>\n",
       "      <td>4</td>\n",
       "      <td>151.0</td>\n",
       "      <td>?</td>\n",
       "      <td>3035.0</td>\n",
       "      <td>20.5</td>\n",
       "      <td>82</td>\n",
       "      <td>1</td>\n",
       "    </tr>\n",
       "  </tbody>\n",
       "</table>\n",
       "</div>"
      ],
      "text/plain": [
       "      mpg  cylinders  displacement horsepower  weight  acceleration  \\\n",
       "32   25.0          4          98.0          ?  2046.0          19.0   \n",
       "126  21.0          6         200.0          ?  2875.0          17.0   \n",
       "330  40.9          4          85.0          ?  1835.0          17.3   \n",
       "336  23.6          4         140.0          ?  2905.0          14.3   \n",
       "354  34.5          4         100.0          ?  2320.0          15.8   \n",
       "374  23.0          4         151.0          ?  3035.0          20.5   \n",
       "\n",
       "     model year  origin  \n",
       "32           71       1  \n",
       "126          74       1  \n",
       "330          80       2  \n",
       "336          80       1  \n",
       "354          81       2  \n",
       "374          82       1  "
      ]
     },
     "execution_count": 359,
     "metadata": {},
     "output_type": "execute_result"
    }
   ],
   "source": [
    "df.loc[df['horsepower']=='?']"
   ]
  },
  {
   "cell_type": "markdown",
   "metadata": {},
   "source": [
    "Those 6 observations have missing values are of cylinders 4 and 6. We have several options to deal with the missing values. We can set the 'horsepower' to the mean or median of 'horsepower' found in the other observations that have 'cylinders' value 4 and 6, respectively. Or we can simply remove these 6 observations. In this example, we will remove these 6 cases. "
   ]
  },
  {
   "cell_type": "code",
   "execution_count": 360,
   "metadata": {},
   "outputs": [
    {
     "data": {
      "text/plain": [
       "(392, 8)"
      ]
     },
     "execution_count": 360,
     "metadata": {},
     "output_type": "execute_result"
    }
   ],
   "source": [
    "# drop \n",
    "df = df[df['horsepower'] != '?']\n",
    "df.shape"
   ]
  },
  {
   "cell_type": "markdown",
   "metadata": {},
   "source": [
    "Note that 'horsepowet' still is of type 'object', which is not the type that XGBoost allows. Let's fix this by converting it to numeric values."
   ]
  },
  {
   "cell_type": "code",
   "execution_count": 361,
   "metadata": {},
   "outputs": [],
   "source": [
    "df['horsepower'] = pd.to_numeric(df['horsepower'])"
   ]
  },
  {
   "cell_type": "code",
   "execution_count": 362,
   "metadata": {},
   "outputs": [
    {
     "data": {
      "text/plain": [
       "mpg             float64\n",
       "cylinders         int64\n",
       "displacement    float64\n",
       "horsepower      float64\n",
       "weight          float64\n",
       "acceleration    float64\n",
       "model year        int64\n",
       "origin            int64\n",
       "dtype: object"
      ]
     },
     "execution_count": 362,
     "metadata": {},
     "output_type": "execute_result"
    }
   ],
   "source": [
    "df.dtypes"
   ]
  },
  {
   "cell_type": "code",
   "execution_count": 363,
   "metadata": {},
   "outputs": [
    {
     "data": {
      "text/html": [
       "<div>\n",
       "<style scoped>\n",
       "    .dataframe tbody tr th:only-of-type {\n",
       "        vertical-align: middle;\n",
       "    }\n",
       "\n",
       "    .dataframe tbody tr th {\n",
       "        vertical-align: top;\n",
       "    }\n",
       "\n",
       "    .dataframe thead th {\n",
       "        text-align: right;\n",
       "    }\n",
       "</style>\n",
       "<table border=\"1\" class=\"dataframe\">\n",
       "  <thead>\n",
       "    <tr style=\"text-align: right;\">\n",
       "      <th></th>\n",
       "      <th>mpg</th>\n",
       "      <th>cylinders</th>\n",
       "      <th>displacement</th>\n",
       "      <th>horsepower</th>\n",
       "      <th>weight</th>\n",
       "      <th>acceleration</th>\n",
       "      <th>model year</th>\n",
       "      <th>origin</th>\n",
       "    </tr>\n",
       "  </thead>\n",
       "  <tbody>\n",
       "    <tr>\n",
       "      <th>0</th>\n",
       "      <td>18.0</td>\n",
       "      <td>8</td>\n",
       "      <td>307.0</td>\n",
       "      <td>130.0</td>\n",
       "      <td>3504.0</td>\n",
       "      <td>12.0</td>\n",
       "      <td>70</td>\n",
       "      <td>1</td>\n",
       "    </tr>\n",
       "    <tr>\n",
       "      <th>1</th>\n",
       "      <td>15.0</td>\n",
       "      <td>8</td>\n",
       "      <td>350.0</td>\n",
       "      <td>165.0</td>\n",
       "      <td>3693.0</td>\n",
       "      <td>11.5</td>\n",
       "      <td>70</td>\n",
       "      <td>1</td>\n",
       "    </tr>\n",
       "    <tr>\n",
       "      <th>2</th>\n",
       "      <td>18.0</td>\n",
       "      <td>8</td>\n",
       "      <td>318.0</td>\n",
       "      <td>150.0</td>\n",
       "      <td>3436.0</td>\n",
       "      <td>11.0</td>\n",
       "      <td>70</td>\n",
       "      <td>1</td>\n",
       "    </tr>\n",
       "    <tr>\n",
       "      <th>3</th>\n",
       "      <td>16.0</td>\n",
       "      <td>8</td>\n",
       "      <td>304.0</td>\n",
       "      <td>150.0</td>\n",
       "      <td>3433.0</td>\n",
       "      <td>12.0</td>\n",
       "      <td>70</td>\n",
       "      <td>1</td>\n",
       "    </tr>\n",
       "    <tr>\n",
       "      <th>4</th>\n",
       "      <td>17.0</td>\n",
       "      <td>8</td>\n",
       "      <td>302.0</td>\n",
       "      <td>140.0</td>\n",
       "      <td>3449.0</td>\n",
       "      <td>10.5</td>\n",
       "      <td>70</td>\n",
       "      <td>1</td>\n",
       "    </tr>\n",
       "    <tr>\n",
       "      <th>...</th>\n",
       "      <td>...</td>\n",
       "      <td>...</td>\n",
       "      <td>...</td>\n",
       "      <td>...</td>\n",
       "      <td>...</td>\n",
       "      <td>...</td>\n",
       "      <td>...</td>\n",
       "      <td>...</td>\n",
       "    </tr>\n",
       "    <tr>\n",
       "      <th>393</th>\n",
       "      <td>27.0</td>\n",
       "      <td>4</td>\n",
       "      <td>140.0</td>\n",
       "      <td>86.0</td>\n",
       "      <td>2790.0</td>\n",
       "      <td>15.6</td>\n",
       "      <td>82</td>\n",
       "      <td>1</td>\n",
       "    </tr>\n",
       "    <tr>\n",
       "      <th>394</th>\n",
       "      <td>44.0</td>\n",
       "      <td>4</td>\n",
       "      <td>97.0</td>\n",
       "      <td>52.0</td>\n",
       "      <td>2130.0</td>\n",
       "      <td>24.6</td>\n",
       "      <td>82</td>\n",
       "      <td>2</td>\n",
       "    </tr>\n",
       "    <tr>\n",
       "      <th>395</th>\n",
       "      <td>32.0</td>\n",
       "      <td>4</td>\n",
       "      <td>135.0</td>\n",
       "      <td>84.0</td>\n",
       "      <td>2295.0</td>\n",
       "      <td>11.6</td>\n",
       "      <td>82</td>\n",
       "      <td>1</td>\n",
       "    </tr>\n",
       "    <tr>\n",
       "      <th>396</th>\n",
       "      <td>28.0</td>\n",
       "      <td>4</td>\n",
       "      <td>120.0</td>\n",
       "      <td>79.0</td>\n",
       "      <td>2625.0</td>\n",
       "      <td>18.6</td>\n",
       "      <td>82</td>\n",
       "      <td>1</td>\n",
       "    </tr>\n",
       "    <tr>\n",
       "      <th>397</th>\n",
       "      <td>31.0</td>\n",
       "      <td>4</td>\n",
       "      <td>119.0</td>\n",
       "      <td>82.0</td>\n",
       "      <td>2720.0</td>\n",
       "      <td>19.4</td>\n",
       "      <td>82</td>\n",
       "      <td>1</td>\n",
       "    </tr>\n",
       "  </tbody>\n",
       "</table>\n",
       "<p>392 rows × 8 columns</p>\n",
       "</div>"
      ],
      "text/plain": [
       "      mpg  cylinders  displacement  horsepower  weight  acceleration  \\\n",
       "0    18.0          8         307.0       130.0  3504.0          12.0   \n",
       "1    15.0          8         350.0       165.0  3693.0          11.5   \n",
       "2    18.0          8         318.0       150.0  3436.0          11.0   \n",
       "3    16.0          8         304.0       150.0  3433.0          12.0   \n",
       "4    17.0          8         302.0       140.0  3449.0          10.5   \n",
       "..    ...        ...           ...         ...     ...           ...   \n",
       "393  27.0          4         140.0        86.0  2790.0          15.6   \n",
       "394  44.0          4          97.0        52.0  2130.0          24.6   \n",
       "395  32.0          4         135.0        84.0  2295.0          11.6   \n",
       "396  28.0          4         120.0        79.0  2625.0          18.6   \n",
       "397  31.0          4         119.0        82.0  2720.0          19.4   \n",
       "\n",
       "     model year  origin  \n",
       "0            70       1  \n",
       "1            70       1  \n",
       "2            70       1  \n",
       "3            70       1  \n",
       "4            70       1  \n",
       "..          ...     ...  \n",
       "393          82       1  \n",
       "394          82       2  \n",
       "395          82       1  \n",
       "396          82       1  \n",
       "397          82       1  \n",
       "\n",
       "[392 rows x 8 columns]"
      ]
     },
     "execution_count": 363,
     "metadata": {},
     "output_type": "execute_result"
    }
   ],
   "source": [
    "df"
   ]
  },
  {
   "cell_type": "markdown",
   "metadata": {},
   "source": [
    "We have successfully dealt with missing values and object type columns. All columns are either float or int type, which is good. However, we still have to look into the __cylinders__, __model year__, and __origin__ columns becasue they are __`multi-valued discrete`__ though they are in numeric form. This is becasue XGBoost does not support categorical data. In our case, the categorical data, i.e., cylinders, model year, and origin, are already in numerical form, treated them like continuous data, by natural order encoding. However, the drawback of this encoding method is that we are implying that, for example, being cylinder type 8 is more similar to being cylinder type 6 than other forms of cylinder type. This is definitely not what we mean to imply. Another encoding method that can help us avoid this issue is called __One-Hot-Encoding__. By using one-hot-encoding, we treat each category as a seperate feature that is the same level of importance and similarity with any other category. One way of doing so is to use the pands `get_dummies` method."
   ]
  },
  {
   "cell_type": "code",
   "execution_count": 364,
   "metadata": {},
   "outputs": [
    {
     "data": {
      "text/html": [
       "<div>\n",
       "<style scoped>\n",
       "    .dataframe tbody tr th:only-of-type {\n",
       "        vertical-align: middle;\n",
       "    }\n",
       "\n",
       "    .dataframe tbody tr th {\n",
       "        vertical-align: top;\n",
       "    }\n",
       "\n",
       "    .dataframe thead th {\n",
       "        text-align: right;\n",
       "    }\n",
       "</style>\n",
       "<table border=\"1\" class=\"dataframe\">\n",
       "  <thead>\n",
       "    <tr style=\"text-align: right;\">\n",
       "      <th></th>\n",
       "      <th>mpg</th>\n",
       "      <th>displacement</th>\n",
       "      <th>horsepower</th>\n",
       "      <th>weight</th>\n",
       "      <th>acceleration</th>\n",
       "      <th>cylinders_3</th>\n",
       "      <th>cylinders_4</th>\n",
       "      <th>cylinders_5</th>\n",
       "      <th>cylinders_6</th>\n",
       "      <th>cylinders_8</th>\n",
       "      <th>...</th>\n",
       "      <th>model year_76</th>\n",
       "      <th>model year_77</th>\n",
       "      <th>model year_78</th>\n",
       "      <th>model year_79</th>\n",
       "      <th>model year_80</th>\n",
       "      <th>model year_81</th>\n",
       "      <th>model year_82</th>\n",
       "      <th>origin_1</th>\n",
       "      <th>origin_2</th>\n",
       "      <th>origin_3</th>\n",
       "    </tr>\n",
       "  </thead>\n",
       "  <tbody>\n",
       "    <tr>\n",
       "      <th>0</th>\n",
       "      <td>18.0</td>\n",
       "      <td>307.0</td>\n",
       "      <td>130.0</td>\n",
       "      <td>3504.0</td>\n",
       "      <td>12.0</td>\n",
       "      <td>0</td>\n",
       "      <td>0</td>\n",
       "      <td>0</td>\n",
       "      <td>0</td>\n",
       "      <td>1</td>\n",
       "      <td>...</td>\n",
       "      <td>0</td>\n",
       "      <td>0</td>\n",
       "      <td>0</td>\n",
       "      <td>0</td>\n",
       "      <td>0</td>\n",
       "      <td>0</td>\n",
       "      <td>0</td>\n",
       "      <td>1</td>\n",
       "      <td>0</td>\n",
       "      <td>0</td>\n",
       "    </tr>\n",
       "    <tr>\n",
       "      <th>1</th>\n",
       "      <td>15.0</td>\n",
       "      <td>350.0</td>\n",
       "      <td>165.0</td>\n",
       "      <td>3693.0</td>\n",
       "      <td>11.5</td>\n",
       "      <td>0</td>\n",
       "      <td>0</td>\n",
       "      <td>0</td>\n",
       "      <td>0</td>\n",
       "      <td>1</td>\n",
       "      <td>...</td>\n",
       "      <td>0</td>\n",
       "      <td>0</td>\n",
       "      <td>0</td>\n",
       "      <td>0</td>\n",
       "      <td>0</td>\n",
       "      <td>0</td>\n",
       "      <td>0</td>\n",
       "      <td>1</td>\n",
       "      <td>0</td>\n",
       "      <td>0</td>\n",
       "    </tr>\n",
       "    <tr>\n",
       "      <th>2</th>\n",
       "      <td>18.0</td>\n",
       "      <td>318.0</td>\n",
       "      <td>150.0</td>\n",
       "      <td>3436.0</td>\n",
       "      <td>11.0</td>\n",
       "      <td>0</td>\n",
       "      <td>0</td>\n",
       "      <td>0</td>\n",
       "      <td>0</td>\n",
       "      <td>1</td>\n",
       "      <td>...</td>\n",
       "      <td>0</td>\n",
       "      <td>0</td>\n",
       "      <td>0</td>\n",
       "      <td>0</td>\n",
       "      <td>0</td>\n",
       "      <td>0</td>\n",
       "      <td>0</td>\n",
       "      <td>1</td>\n",
       "      <td>0</td>\n",
       "      <td>0</td>\n",
       "    </tr>\n",
       "    <tr>\n",
       "      <th>3</th>\n",
       "      <td>16.0</td>\n",
       "      <td>304.0</td>\n",
       "      <td>150.0</td>\n",
       "      <td>3433.0</td>\n",
       "      <td>12.0</td>\n",
       "      <td>0</td>\n",
       "      <td>0</td>\n",
       "      <td>0</td>\n",
       "      <td>0</td>\n",
       "      <td>1</td>\n",
       "      <td>...</td>\n",
       "      <td>0</td>\n",
       "      <td>0</td>\n",
       "      <td>0</td>\n",
       "      <td>0</td>\n",
       "      <td>0</td>\n",
       "      <td>0</td>\n",
       "      <td>0</td>\n",
       "      <td>1</td>\n",
       "      <td>0</td>\n",
       "      <td>0</td>\n",
       "    </tr>\n",
       "    <tr>\n",
       "      <th>4</th>\n",
       "      <td>17.0</td>\n",
       "      <td>302.0</td>\n",
       "      <td>140.0</td>\n",
       "      <td>3449.0</td>\n",
       "      <td>10.5</td>\n",
       "      <td>0</td>\n",
       "      <td>0</td>\n",
       "      <td>0</td>\n",
       "      <td>0</td>\n",
       "      <td>1</td>\n",
       "      <td>...</td>\n",
       "      <td>0</td>\n",
       "      <td>0</td>\n",
       "      <td>0</td>\n",
       "      <td>0</td>\n",
       "      <td>0</td>\n",
       "      <td>0</td>\n",
       "      <td>0</td>\n",
       "      <td>1</td>\n",
       "      <td>0</td>\n",
       "      <td>0</td>\n",
       "    </tr>\n",
       "  </tbody>\n",
       "</table>\n",
       "<p>5 rows × 26 columns</p>\n",
       "</div>"
      ],
      "text/plain": [
       "    mpg  displacement  horsepower  weight  acceleration  cylinders_3  \\\n",
       "0  18.0         307.0       130.0  3504.0          12.0            0   \n",
       "1  15.0         350.0       165.0  3693.0          11.5            0   \n",
       "2  18.0         318.0       150.0  3436.0          11.0            0   \n",
       "3  16.0         304.0       150.0  3433.0          12.0            0   \n",
       "4  17.0         302.0       140.0  3449.0          10.5            0   \n",
       "\n",
       "   cylinders_4  cylinders_5  cylinders_6  cylinders_8  ...  model year_76  \\\n",
       "0            0            0            0            1  ...              0   \n",
       "1            0            0            0            1  ...              0   \n",
       "2            0            0            0            1  ...              0   \n",
       "3            0            0            0            1  ...              0   \n",
       "4            0            0            0            1  ...              0   \n",
       "\n",
       "   model year_77  model year_78  model year_79  model year_80  model year_81  \\\n",
       "0              0              0              0              0              0   \n",
       "1              0              0              0              0              0   \n",
       "2              0              0              0              0              0   \n",
       "3              0              0              0              0              0   \n",
       "4              0              0              0              0              0   \n",
       "\n",
       "   model year_82  origin_1  origin_2  origin_3  \n",
       "0              0         1         0         0  \n",
       "1              0         1         0         0  \n",
       "2              0         1         0         0  \n",
       "3              0         1         0         0  \n",
       "4              0         1         0         0  \n",
       "\n",
       "[5 rows x 26 columns]"
      ]
     },
     "execution_count": 364,
     "metadata": {},
     "output_type": "execute_result"
    }
   ],
   "source": [
    "df_encoded = pd.get_dummies(df, columns=['cylinders', 'model year', 'origin'])\n",
    "df_encoded.head()"
   ]
  },
  {
   "cell_type": "markdown",
   "metadata": {},
   "source": [
    "Now, one last thing to do before we build an XGBoost model, is that we need to seperate the data into two parts. The first part is the features ot columns of data that we will use to make predictions, and we will use the conventional notation of a capital X, __`X`__. The second part is the column of data that we want to predict, which is the __mpg__ in this tutorial, and we will use a lower case __`y`__ to represent this one column."
   ]
  },
  {
   "cell_type": "code",
   "execution_count": 365,
   "metadata": {},
   "outputs": [],
   "source": [
    "X = df_encoded.drop('mpg', axis=1).copy()\n",
    "y = df_encoded['mpg'].copy()"
   ]
  },
  {
   "cell_type": "code",
   "execution_count": 366,
   "metadata": {},
   "outputs": [
    {
     "data": {
      "text/plain": [
       "count    392.000000\n",
       "mean      23.445918\n",
       "std        7.805007\n",
       "min        9.000000\n",
       "25%       17.000000\n",
       "50%       22.750000\n",
       "75%       29.000000\n",
       "max       46.600000\n",
       "Name: mpg, dtype: float64"
      ]
     },
     "execution_count": 366,
     "metadata": {},
     "output_type": "execute_result"
    }
   ],
   "source": [
    "y.describe()"
   ]
  },
  {
   "cell_type": "code",
   "execution_count": 367,
   "metadata": {},
   "outputs": [
    {
     "data": {
      "image/png": "[encoded data removed]",
      "text/plain": [
       "<Figure size 432x288 with 1 Axes>"
      ]
     },
     "metadata": {
      "needs_background": "light"
     },
     "output_type": "display_data"
    }
   ],
   "source": [
    "import seaborn as sns\n",
    "sns.distplot(y);"
   ]
  },
  {
   "cell_type": "markdown",
   "metadata": {},
   "source": [
    "Note that by default pandas copy by _reference_. In the above code, we are using `copy()` method to copy the data by _value_ so that we can make sure the original data `df_encoded` is intact. So if something wrong happens, we can go back to the original data frame and redo what we wanted to. Now we have finally finished the data formatting procedure  and we are ready to make our first XGBoost model."
   ]
  },
  {
   "cell_type": "markdown",
   "metadata": {},
   "source": [
    "***"
   ]
  },
  {
   "cell_type": "markdown",
   "metadata": {},
   "source": [
    "## Building a Preliminary XGBoost Model"
   ]
  },
  {
   "cell_type": "markdown",
   "metadata": {},
   "source": [
    "We first split the data into training and testing sets."
   ]
  },
  {
   "cell_type": "code",
   "execution_count": 368,
   "metadata": {},
   "outputs": [],
   "source": [
    "X_train, X_test, y_train, y_test = train_test_split(X_encoded, y, train_size=0.75, random_state = 42)"
   ]
  },
  {
   "cell_type": "markdown",
   "metadata": {},
   "source": [
    "Before we build the model, let's first check the distribution of __y_train__ and __y_test__ to make sure that they are not too different from each other."
   ]
  },
  {
   "cell_type": "code",
   "execution_count": 369,
   "metadata": {},
   "outputs": [
    {
     "data": {
      "image/png": "[encoded data removed]",
      "text/plain": [
       "<Figure size 432x288 with 1 Axes>"
      ]
     },
     "metadata": {
      "needs_background": "light"
     },
     "output_type": "display_data"
    }
   ],
   "source": [
    "sns.distplot(y_train);\n",
    "sns.distplot(y_test);"
   ]
  },
  {
   "cell_type": "markdown",
   "metadata": {},
   "source": [
    "It turns out as expected both y_train and y_test have similar distribution. Now let's build the model. Instead of finding out the optimal number of trees with cross validation, we will use __early stopping__ to stop building trees when there is no longer any improvement.\n",
    "\n",
    "There are multiple evaluation metric you can turn to when doing regression. We are going to use __mean absolute error (MAE)__ as the evaluation metric to evaluate the accuracy of our predictions. MAE is a common and simple metric that has the advantage of being in the same unit as our target, which means it can be compared to target values and easily interpreted. For XGBoost classification problem, you can use, for example, 'aucpr' as the evaluation metric."
   ]
  },
  {
   "cell_type": "code",
   "execution_count": 370,
   "metadata": {},
   "outputs": [
    {
     "name": "stdout",
     "output_type": "stream",
     "text": [
      "[0]\tvalidation_0-mae:15.23467\n",
      "[1]\tvalidation_0-mae:10.31782\n",
      "[2]\tvalidation_0-mae:6.99288\n",
      "[3]\tvalidation_0-mae:4.86059\n",
      "[4]\tvalidation_0-mae:3.60962\n",
      "[5]\tvalidation_0-mae:2.91023\n",
      "[6]\tvalidation_0-mae:2.55142\n",
      "[7]\tvalidation_0-mae:2.37789\n",
      "[8]\tvalidation_0-mae:2.34730\n",
      "[9]\tvalidation_0-mae:2.32124\n",
      "[10]\tvalidation_0-mae:2.31774\n",
      "[11]\tvalidation_0-mae:2.31866\n",
      "[12]\tvalidation_0-mae:2.31456\n",
      "[13]\tvalidation_0-mae:2.30251\n",
      "[14]\tvalidation_0-mae:2.30401\n",
      "[15]\tvalidation_0-mae:2.28332\n",
      "[16]\tvalidation_0-mae:2.29724\n",
      "[17]\tvalidation_0-mae:2.28917\n",
      "[18]\tvalidation_0-mae:2.27458\n",
      "[19]\tvalidation_0-mae:2.26852\n",
      "[20]\tvalidation_0-mae:2.26150\n",
      "[21]\tvalidation_0-mae:2.26159\n",
      "[22]\tvalidation_0-mae:2.26427\n",
      "[23]\tvalidation_0-mae:2.26771\n",
      "[24]\tvalidation_0-mae:2.25649\n",
      "[25]\tvalidation_0-mae:2.25175\n",
      "[26]\tvalidation_0-mae:2.25322\n",
      "[27]\tvalidation_0-mae:2.25548\n",
      "[28]\tvalidation_0-mae:2.25587\n",
      "[29]\tvalidation_0-mae:2.25816\n",
      "[30]\tvalidation_0-mae:2.25190\n",
      "[31]\tvalidation_0-mae:2.25896\n",
      "[32]\tvalidation_0-mae:2.25724\n",
      "[33]\tvalidation_0-mae:2.26186\n",
      "[34]\tvalidation_0-mae:2.25368\n",
      "[35]\tvalidation_0-mae:2.25423\n",
      "[36]\tvalidation_0-mae:2.24241\n",
      "[37]\tvalidation_0-mae:2.23617\n",
      "[38]\tvalidation_0-mae:2.22817\n",
      "[39]\tvalidation_0-mae:2.23183\n",
      "[40]\tvalidation_0-mae:2.23178\n",
      "[41]\tvalidation_0-mae:2.22778\n",
      "[42]\tvalidation_0-mae:2.22755\n",
      "[43]\tvalidation_0-mae:2.22976\n",
      "[44]\tvalidation_0-mae:2.22674\n",
      "[45]\tvalidation_0-mae:2.23006\n",
      "[46]\tvalidation_0-mae:2.23108\n",
      "[47]\tvalidation_0-mae:2.22877\n",
      "[48]\tvalidation_0-mae:2.22791\n",
      "[49]\tvalidation_0-mae:2.22672\n",
      "[50]\tvalidation_0-mae:2.22847\n",
      "[51]\tvalidation_0-mae:2.22624\n",
      "[52]\tvalidation_0-mae:2.22542\n",
      "[53]\tvalidation_0-mae:2.22552\n",
      "[54]\tvalidation_0-mae:2.22527\n",
      "[55]\tvalidation_0-mae:2.22591\n",
      "[56]\tvalidation_0-mae:2.22621\n",
      "[57]\tvalidation_0-mae:2.22927\n",
      "[58]\tvalidation_0-mae:2.22813\n",
      "[59]\tvalidation_0-mae:2.22889\n",
      "[60]\tvalidation_0-mae:2.22990\n",
      "[61]\tvalidation_0-mae:2.22960\n",
      "[62]\tvalidation_0-mae:2.22872\n",
      "[63]\tvalidation_0-mae:2.22897\n",
      "[64]\tvalidation_0-mae:2.22890\n",
      "[65]\tvalidation_0-mae:2.22988\n"
     ]
    },
    {
     "data": {
      "text/plain": [
       "XGBRegressor(base_score=0.5, booster='gbtree', colsample_bylevel=1,\n",
       "             colsample_bynode=1, colsample_bytree=1, gamma=0, gpu_id=-1,\n",
       "             importance_type='gain', interaction_constraints='',\n",
       "             learning_rate=0.300000012, max_delta_step=0, max_depth=6,\n",
       "             min_child_weight=1, missing=None, monotone_constraints='()',\n",
       "             n_estimators=100, n_jobs=8, num_parallel_tree=1, random_state=42,\n",
       "             reg_alpha=0, reg_lambda=1, scale_pos_weight=1, seed=42,\n",
       "             subsample=1, tree_method='exact', validate_parameters=1,\n",
       "             verbosity=0)"
      ]
     },
     "execution_count": 370,
     "metadata": {},
     "output_type": "execute_result"
    }
   ],
   "source": [
    "#https://ml.dask.org/modules/generated/dask_ml.xgboost.XGBRegressor.html\n",
    "#https://github.com/dmlc/xgboost/blob/master/doc/parameter.rst\n",
    "reg_xgb = xgb.XGBRegressor(verbosity=0, \n",
    "                           objective='reg:squarederror', \n",
    "                           missing=None, \n",
    "                           seed=42)\n",
    "reg_xgb.fit(X_train, \n",
    "            y_train, \n",
    "            eval_metric= 'mae', #'mae', # 'rmsle', 'rmse'\n",
    "            early_stopping_rounds=11,\n",
    "            eval_set=[(X_test, y_test)])"
   ]
  },
  {
   "cell_type": "code",
   "execution_count": 371,
   "metadata": {},
   "outputs": [
    {
     "name": "stdout",
     "output_type": "stream",
     "text": [
      "R² Training Score: 0.99937 \n"
     ]
    }
   ],
   "source": [
    "y_train_pred = reg_xgb.predict(X_train)\n",
    "score = r2_score(y_train, y_train_pred)\n",
    "print(\"R² Training Score: %.5f \"% score)"
   ]
  },
  {
   "cell_type": "markdown",
   "metadata": {},
   "source": [
    "We have successfully build a preliminary XGBoost model for regression. Before we evalute it on the testing data, let's\n",
    "looking at how the performance would look like if we _just_ predicted the mean target output on the training set just as what we did in homework 2. "
   ]
  },
  {
   "cell_type": "code",
   "execution_count": 373,
   "metadata": {},
   "outputs": [
    {
     "name": "stdout",
     "output_type": "stream",
     "text": [
      "Baseline MAE is 5.96\n"
     ]
    }
   ],
   "source": [
    "#https://blog.cambridgespark.com/hyperparameter-tuning-in-xgboost-4ff9100a3b2f\n",
    "# \"Learn\" the mean from the training data\n",
    "mean_train_pred = np.mean(y_train)\n",
    "# Get predictions on the test set\n",
    "baseline_predictions = np.ones(y_test.shape) * mean_train_pred\n",
    "#baseline_predictions = np.ones(y_test.shape) * np.mean(y_train)\n",
    "# Compute MAE\n",
    "mae_baseline = mean_absolute_error(y_test, baseline_predictions)\n",
    "print(\"Baseline MAE is {:.2f}\".format(mae_baseline))"
   ]
  },
  {
   "cell_type": "markdown",
   "metadata": {},
   "source": [
    "The baseline MAE is about 6 if we predict the output of testing with the mean value of the training target value. We will compare the baseline MAE to the testing MAE to evaluate our model."
   ]
  },
  {
   "cell_type": "markdown",
   "metadata": {},
   "source": [
    "Now let's see how it performs on the __testing data set__ by running the testing dataset down the current XGBoost model and compare the __MAE__ and __R² score__ with that of the training dataset."
   ]
  },
  {
   "cell_type": "code",
   "execution_count": 374,
   "metadata": {},
   "outputs": [
    {
     "name": "stdout",
     "output_type": "stream",
     "text": [
      "MAE on test: 2.22527\n"
     ]
    }
   ],
   "source": [
    "y_test_pred = reg_xgb.predict(X_test)\n",
    "mae = mean_absolute_error(y_test, y_test_pred)\n",
    "print(\"MAE on test: %.5f\" % mae)"
   ]
  },
  {
   "cell_type": "code",
   "execution_count": 180,
   "metadata": {},
   "outputs": [
    {
     "name": "stdout",
     "output_type": "stream",
     "text": [
      "R^2 Testing Score: 0.81010 \n"
     ]
    }
   ],
   "source": [
    "score = r2_score(y_test, y_test_pred)\n",
    "print(\"R² Testing Score: %.5f \"% score)"
   ]
  },
  {
   "cell_type": "markdown",
   "metadata": {},
   "source": [
    "Clearly we see that the MAE on testing data 2.23 is much smaller than the baseline MAE 5.96, whcih is saying that our preliminary model is doing its job.\n",
    "\n",
    "We see that the mean absolute error on training data and testing data is 2.229 and 2.225, respectively, which looks to be good. However, the R² score does not seem to be good enough on the testing set. So, the preliminary XGBoost model was not excellent enough. Now Let's try to improve our preliminary model by tunning several hyperparameters using __cross validation__."
   ]
  },
  {
   "cell_type": "markdown",
   "metadata": {},
   "source": [
    "***"
   ]
  },
  {
   "cell_type": "markdown",
   "metadata": {},
   "source": [
    "## Optimizing Parameters with Cross Validation and GridSeach()"
   ]
  },
  {
   "cell_type": "markdown",
   "metadata": {},
   "source": [
    "XGBoost has a lot of __hyperparameters__, which are parameters that are not determined by XGBoost itself but we have manual control. Several most common hyperparameters that we usually optimize for regression modeling are `max_depth`, the maximum depth of the XGBoost trees, `learning_rate`, `gamma`, the paramater that help prune, `reg_lambda`, the regularization parameter, `min_child_weight`, the minimum number of instance weight (hessian) needed in a child. So, let's try to find the optimal values for these hyperparameters in hopes that we can improve the performance of the XGBoost model on the __testing data__. \n",
    "\n",
    "Note that there are more hyperparameters in XGBoost that we are not going to cover in this tutorial, and for regression and classification, the hyperparameters that need to be optimized are different. For more information, visit this website: https://xgboost.readthedocs.io/en/latest/parameter.html.\n",
    "\n",
    "Since we have a bunch of hyperparameter to optimize, we will use GridSearchCV(). We specify several potential values for the hyperparameters, then GridSearchCV() tests all possible combinations of the parameters for us. This process usually take some time depending on how many combinations you have.\n",
    "\n",
    "Note that to speed up the cross validation process, and to further keep overfitting from happening, I will use 90% of the data by specifying 'subsample=0.9', and use half of the features by 'colsample_bytree=0.5' per tree during cross validation."
   ]
  },
  {
   "cell_type": "code",
   "execution_count": 375,
   "metadata": {},
   "outputs": [],
   "source": [
    "## Round 1 \n",
    "param_grid = {\n",
    "    'max_depth': [3, 4, 5],\n",
    "    'learning_rate': [0.005, 0.01, 0.05, 0.1],\n",
    "    'gamma': [0, 0.25, 1.0],\n",
    "    'reg_lambda': [0, 1, 10],\n",
    "    'min_child_weight': [5, 6, 7, 8]\n",
    "}"
   ]
  },
  {
   "cell_type": "code",
   "execution_count": 376,
   "metadata": {},
   "outputs": [
    {
     "name": "stdout",
     "output_type": "stream",
     "text": [
      "Fitting 3 folds for each of 432 candidates, totalling 1296 fits\n"
     ]
    },
    {
     "data": {
      "text/plain": [
       "GridSearchCV(cv=3,\n",
       "             estimator=XGBRegressor(base_score=None, booster=None,\n",
       "                                    colsample_bylevel=None,\n",
       "                                    colsample_bynode=None, colsample_bytree=0.5,\n",
       "                                    gamma=None, gpu_id=None,\n",
       "                                    importance_type='gain',\n",
       "                                    interaction_constraints=None,\n",
       "                                    learning_rate=None, max_delta_step=None,\n",
       "                                    max_depth=None, min_child_weight=None,\n",
       "                                    missing=None, monotone_constraints=None,\n",
       "                                    n_estimators=100, n_jobs=...\n",
       "                                    num_parallel_tree=None, random_state=None,\n",
       "                                    reg_alpha=None, reg_lambda=None,\n",
       "                                    scale_pos_weight=None, seed=42,\n",
       "                                    subsample=0.9, tree_method=None,\n",
       "                                    validate_parameters=None, verbosity=None),\n",
       "             n_jobs=10,\n",
       "             param_grid={'gamma': [0, 0.25, 1.0],\n",
       "                         'learning_rate': [0.1, 0.05, 0.01, 0.005],\n",
       "                         'max_depth': [3, 4, 5],\n",
       "                         'min_child_weight': [5, 6, 7, 8],\n",
       "                         'reg_lambda': [0, 1, 10]},\n",
       "             scoring='neg_mean_absolute_error', verbose=2)"
      ]
     },
     "execution_count": 376,
     "metadata": {},
     "output_type": "execute_result"
    }
   ],
   "source": [
    "optimal_params= GridSearchCV(\n",
    "    estimator = xgb.XGBRegressor(objective='reg:squarederror', \n",
    "                                 missing=None, \n",
    "                                 seed=42,\n",
    "                                 subsample=0.9,\n",
    "                                 colsample_bytree=0.5),\n",
    "    param_grid = param_grid,\n",
    "    scoring = 'neg_mean_absolute_error', # https://scikit-learn.org/stable/modules/model_evaluation.html\n",
    "    verbose=2, # set verbose to 0 if you are not interested in what XGBoost is doing.\n",
    "    n_jobs=10,\n",
    "    cv=3 # 3 fold cross validation, 10 fold   \n",
    ")\n",
    "\n",
    "optimal_params.fit(X_train,\n",
    "                   y_train,\n",
    "                   early_stopping_rounds=10,\n",
    "                   eval_metric='mae',\n",
    "                   eval_set=[(X_test, y_test)],\n",
    "                   verbose=False)"
   ]
  },
  {
   "cell_type": "code",
   "execution_count": 377,
   "metadata": {},
   "outputs": [
    {
     "name": "stdout",
     "output_type": "stream",
     "text": [
      "{'gamma': 0, 'learning_rate': 0.1, 'max_depth': 5, 'min_child_weight': 8, 'reg_lambda': 1}\n"
     ]
    }
   ],
   "source": [
    "print(optimal_params.best_params_)"
   ]
  },
  {
   "cell_type": "markdown",
   "metadata": {},
   "source": [
    "Here I'm going to do a second round hyperparameter tunning, becasue we can see that some of the optical parameters found in the fisrt round, i.e., learning_rate, max_depth, min_child_weight, , fall on the edge of the range that we provided. So in the second round, we are going to go further on that direction."
   ]
  },
  {
   "cell_type": "code",
   "execution_count": 378,
   "metadata": {},
   "outputs": [
    {
     "name": "stdout",
     "output_type": "stream",
     "text": [
      "Fitting 3 folds for each of 144 candidates, totalling 432 fits\n",
      "{'gamma': 0, 'learning_rate': 0.1, 'max_depth': 7, 'min_child_weight': 10, 'reg_lambda': 1}\n"
     ]
    }
   ],
   "source": [
    "## Round 2\n",
    "param_grid = {\n",
    "    'max_depth': [5,7,9,12],\n",
    "    'learning_rate': [0.1, 0.2, 0.3], #[0.1, 0.5, 1],\n",
    "    'gamma': [0],\n",
    "    'reg_lambda': [1, 3, 6],\n",
    "    'min_child_weight': [8, 9, 10, 11]\n",
    "}\n",
    "optimal_params= GridSearchCV(\n",
    "    estimator = xgb.XGBRegressor(objective='reg:squarederror', \n",
    "                                 missing=None, \n",
    "                                 seed=42,\n",
    "                                 subsample=0.9,\n",
    "                                 colsample_bytree=0.5),\n",
    "    param_grid = param_grid,\n",
    "    scoring = 'neg_mean_absolute_error',\n",
    "    verbose=2,\n",
    "    n_jobs=10,\n",
    "    cv=3\n",
    ")\n",
    "\n",
    "optimal_params.fit(X_train,\n",
    "                   y_train,\n",
    "                   early_stopping_rounds=10,\n",
    "                   eval_metric='mae',\n",
    "                   eval_set=[(X_test, y_test)],\n",
    "                   verbose=False)\n",
    "print(optimal_params.best_params_)"
   ]
  },
  {
   "cell_type": "code",
   "execution_count": 379,
   "metadata": {},
   "outputs": [
    {
     "name": "stdout",
     "output_type": "stream",
     "text": [
      "{'gamma': 0, 'learning_rate': 0.1, 'max_depth': 7, 'min_child_weight': 10, 'reg_lambda': 1}\n"
     ]
    }
   ],
   "source": [
    "print(optimal_params.best_params_)"
   ]
  },
  {
   "cell_type": "markdown",
   "metadata": {},
   "source": [
    "After the parameter tunning, we have the optimal parameters. The next step we will do is to build the XGBoost model with these optimized hyperparamers."
   ]
  },
  {
   "cell_type": "markdown",
   "metadata": {},
   "source": [
    "### Build and Evaluate the Optimized XGB Model"
   ]
  },
  {
   "cell_type": "code",
   "execution_count": 380,
   "metadata": {},
   "outputs": [
    {
     "name": "stdout",
     "output_type": "stream",
     "text": [
      "[0]\tvalidation_0-mae:19.93432\n",
      "[1]\tvalidation_0-mae:17.84982\n",
      "[2]\tvalidation_0-mae:15.99264\n",
      "[3]\tvalidation_0-mae:14.28313\n",
      "[4]\tvalidation_0-mae:12.80040\n",
      "[5]\tvalidation_0-mae:11.40781\n",
      "[6]\tvalidation_0-mae:10.17950\n",
      "[7]\tvalidation_0-mae:9.07124\n",
      "[8]\tvalidation_0-mae:8.11191\n",
      "[9]\tvalidation_0-mae:7.21718\n",
      "[10]\tvalidation_0-mae:6.41137\n",
      "[11]\tvalidation_0-mae:5.72048\n",
      "[12]\tvalidation_0-mae:5.10383\n",
      "[13]\tvalidation_0-mae:4.57840\n",
      "[14]\tvalidation_0-mae:4.15106\n",
      "[15]\tvalidation_0-mae:3.77683\n",
      "[16]\tvalidation_0-mae:3.50256\n",
      "[17]\tvalidation_0-mae:3.30342\n",
      "[18]\tvalidation_0-mae:3.13311\n",
      "[19]\tvalidation_0-mae:3.00589\n",
      "[20]\tvalidation_0-mae:2.85306\n",
      "[21]\tvalidation_0-mae:2.73208\n",
      "[22]\tvalidation_0-mae:2.64634\n",
      "[23]\tvalidation_0-mae:2.58290\n",
      "[24]\tvalidation_0-mae:2.54536\n",
      "[25]\tvalidation_0-mae:2.50884\n",
      "[26]\tvalidation_0-mae:2.44908\n",
      "[27]\tvalidation_0-mae:2.40770\n",
      "[28]\tvalidation_0-mae:2.39548\n",
      "[29]\tvalidation_0-mae:2.35233\n",
      "[30]\tvalidation_0-mae:2.32341\n",
      "[31]\tvalidation_0-mae:2.29851\n",
      "[32]\tvalidation_0-mae:2.29176\n",
      "[33]\tvalidation_0-mae:2.26741\n",
      "[34]\tvalidation_0-mae:2.27096\n",
      "[35]\tvalidation_0-mae:2.26861\n",
      "[36]\tvalidation_0-mae:2.27513\n",
      "[37]\tvalidation_0-mae:2.26262\n",
      "[38]\tvalidation_0-mae:2.25297\n",
      "[39]\tvalidation_0-mae:2.24652\n",
      "[40]\tvalidation_0-mae:2.25052\n",
      "[41]\tvalidation_0-mae:2.23848\n",
      "[42]\tvalidation_0-mae:2.22500\n",
      "[43]\tvalidation_0-mae:2.21877\n",
      "[44]\tvalidation_0-mae:2.21811\n",
      "[45]\tvalidation_0-mae:2.21725\n",
      "[46]\tvalidation_0-mae:2.20693\n",
      "[47]\tvalidation_0-mae:2.20839\n",
      "[48]\tvalidation_0-mae:2.19909\n",
      "[49]\tvalidation_0-mae:2.18544\n",
      "[50]\tvalidation_0-mae:2.18304\n",
      "[51]\tvalidation_0-mae:2.17339\n",
      "[52]\tvalidation_0-mae:2.16906\n",
      "[53]\tvalidation_0-mae:2.16822\n",
      "[54]\tvalidation_0-mae:2.16276\n",
      "[55]\tvalidation_0-mae:2.15770\n",
      "[56]\tvalidation_0-mae:2.15491\n",
      "[57]\tvalidation_0-mae:2.14843\n",
      "[58]\tvalidation_0-mae:2.14401\n",
      "[59]\tvalidation_0-mae:2.14430\n",
      "[60]\tvalidation_0-mae:2.13821\n",
      "[61]\tvalidation_0-mae:2.13912\n",
      "[62]\tvalidation_0-mae:2.13414\n",
      "[63]\tvalidation_0-mae:2.13175\n",
      "[64]\tvalidation_0-mae:2.11831\n",
      "[65]\tvalidation_0-mae:2.11091\n",
      "[66]\tvalidation_0-mae:2.11078\n",
      "[67]\tvalidation_0-mae:2.10833\n",
      "[68]\tvalidation_0-mae:2.10263\n",
      "[69]\tvalidation_0-mae:2.10018\n",
      "[70]\tvalidation_0-mae:2.09926\n",
      "[71]\tvalidation_0-mae:2.10222\n",
      "[72]\tvalidation_0-mae:2.10017\n",
      "[73]\tvalidation_0-mae:2.08907\n",
      "[74]\tvalidation_0-mae:2.09113\n",
      "[75]\tvalidation_0-mae:2.08906\n",
      "[76]\tvalidation_0-mae:2.09658\n",
      "[77]\tvalidation_0-mae:2.10000\n",
      "[78]\tvalidation_0-mae:2.09496\n",
      "[79]\tvalidation_0-mae:2.10187\n",
      "[80]\tvalidation_0-mae:2.10324\n",
      "[81]\tvalidation_0-mae:2.10043\n",
      "[82]\tvalidation_0-mae:2.09999\n",
      "[83]\tvalidation_0-mae:2.10307\n",
      "[84]\tvalidation_0-mae:2.09574\n"
     ]
    },
    {
     "data": {
      "text/plain": [
       "XGBRegressor(base_score=0.5, booster='gbtree', colsample_bylevel=1,\n",
       "             colsample_bynode=1, colsample_bytree=0.5, gamma=0, gpu_id=-1,\n",
       "             importance_type='gain', interaction_constraints='',\n",
       "             learning_rate=0.1, max_delta_step=0, max_depth=7,\n",
       "             min_child_weight=10, missing=nan, monotone_constraints='()',\n",
       "             n_estimators=100, n_jobs=8, num_parallel_tree=1, random_state=42,\n",
       "             reg_alpha=0, reg_lambda=1, scale_pos_weight=1, seed=42,\n",
       "             subsample=0.9, tree_method='exact', validate_parameters=1,\n",
       "             verbosity=None)"
      ]
     },
     "execution_count": 380,
     "metadata": {},
     "output_type": "execute_result"
    }
   ],
   "source": [
    "reg_xgb = xgb.XGBRegressor(seed = 42,\n",
    "                           objective='reg:squarederror',\n",
    "                           gamma = 0,\n",
    "                           learning_rate = 0.1,\n",
    "                           max_depth = 7,\n",
    "                           min_child_weight = 10,\n",
    "                           reg_lambda = 1,\n",
    "                           subsample = 0.9,\n",
    "                           colsample_bytree = 0.5)\n",
    "\n",
    "reg_xgb.fit(X_train, \n",
    "            y_train, \n",
    "            verbose = True,\n",
    "            eval_metric='mae', # 'rmsle'\n",
    "            early_stopping_rounds=10,\n",
    "            eval_set=[(X_test, y_test)])"
   ]
  },
  {
   "cell_type": "code",
   "execution_count": 381,
   "metadata": {},
   "outputs": [
    {
     "name": "stdout",
     "output_type": "stream",
     "text": [
      "R² Training Score: 0.95322 \n"
     ]
    }
   ],
   "source": [
    "y_train_pred = reg_xgb.predict(X_train)\n",
    "score = r2_score(y_train, y_train_pred)\n",
    "print(\"R² Training Score: %.5f \"% score)"
   ]
  },
  {
   "cell_type": "code",
   "execution_count": 382,
   "metadata": {},
   "outputs": [
    {
     "name": "stdout",
     "output_type": "stream",
     "text": [
      "MAE on test: 2.08906\n",
      "R² Testing Score: 0.82193 \n"
     ]
    }
   ],
   "source": [
    "y_test_pred = reg_xgb.predict(X_test)\n",
    "mae = mean_absolute_error(y_test, y_test_pred)\n",
    "print(\"MAE on test: %.5f\" % mae)\n",
    "score = r2_score(y_test, y_test_pred)\n",
    "print(\"R² Testing Score: %.5f \"% score)"
   ]
  },
  {
   "cell_type": "markdown",
   "metadata": {},
   "source": [
    "|  | Preliminary model | Optimized model |\n",
    "| --- | --- | --- |\n",
    "| Training set | MAE = 2.22890, R² = 0.99937 | MAE = 2.09747, R² = 0.95322 |\n",
    "| Testing set | MAE = 2.22527, R² = 0.81010 | MAE = 2.08906, R² = 0.82193 |"
   ]
  },
  {
   "cell_type": "markdown",
   "metadata": {},
   "source": [
    "From the table, we can see that the optimized XGBoost model is performing better on testing data though the performcne on training data is sacrificed a little. The second last thing we are going to do in this tutorial is to draw the optimized XGBoost trees and interpret it."
   ]
  },
  {
   "cell_type": "markdown",
   "metadata": {},
   "source": [
    "## Visulizing the Optimized XGBoost Model"
   ]
  },
  {
   "cell_type": "markdown",
   "metadata": {},
   "source": [
    "In the `to_graphviz()` method, we need to specify `num_trees` a integer value. Note that this is not the number of trees to plot, but the one specific tree that you are interested in. Let's plot __the first tree__ in the XGBoost Trees to show the features and feature values for each split as well as the output leaf nodes."
   ]
  },
  {
   "cell_type": "code",
   "execution_count": 383,
   "metadata": {
    "scrolled": false
   },
   "outputs": [
    {
     "data": {
      "image/svg+xml": [
       "<?xml version=\"1.0\" encoding=\"UTF-8\" standalone=\"no\"?>\n",
       "<!DOCTYPE svg PUBLIC \"-//W3C//DTD SVG 1.1//EN\"\n",
       " \"http://www.w3.org/Graphics/SVG/1.1/DTD/svg11.dtd\">\n",
       "<!-- Generated by graphviz version 2.40.1 (20161225.0304)\n",
       " -->\n",
       "<!-- Title: %3 Pages: 1 -->\n",
       "<svg width=\"608pt\" height=\"218pt\"\n",
       " viewBox=\"0.00 0.00 608.39 218.00\" xmlns=\"http://www.w3.org/2000/svg\" xmlns:xlink=\"http://www.w3.org/1999/xlink\">\n",
       "<g id=\"graph0\" class=\"graph\" transform=\"scale(1 1) rotate(0) translate(4 214)\">\n",
       "<title>%3</title>\n",
       "<polygon fill=\"#ffffff\" stroke=\"transparent\" points=\"-4,4 -4,-214 604.3887,-214 604.3887,4 -4,4\"/>\n",
       "<!-- 0 -->\n",
       "<g id=\"node1\" class=\"node\">\n",
       "<title>0</title>\n",
       "<ellipse fill=\"#78cb0e\" stroke=\"#000000\" cx=\"317.7935\" cy=\"-192\" rx=\"69.5877\" ry=\"18\"/>\n",
       "<text text-anchor=\"middle\" x=\"317.7935\" y=\"-188.3\" font-family=\"Times,serif\" font-size=\"14.00\" fill=\"#000000\">cylinders_4&lt;0.5</text>\n",
       "</g>\n",
       "<!-- 1 -->\n",
       "<g id=\"node2\" class=\"node\">\n",
       "<title>1</title>\n",
       "<ellipse fill=\"#78cb0e\" stroke=\"#000000\" cx=\"236.7935\" cy=\"-105\" rx=\"59.2899\" ry=\"18\"/>\n",
       "<text text-anchor=\"middle\" x=\"236.7935\" y=\"-101.3\" font-family=\"Times,serif\" font-size=\"14.00\" fill=\"#000000\">weight&lt;3745</text>\n",
       "</g>\n",
       "<!-- 0&#45;&gt;1 -->\n",
       "<g id=\"edge1\" class=\"edge\">\n",
       "<title>0&#45;&gt;1</title>\n",
       "<path fill=\"none\" stroke=\"#0000ff\" d=\"M301.402,-174.3943C289.5446,-161.6586 273.3525,-144.2671 260.1448,-130.081\"/>\n",
       "<polygon fill=\"#0000ff\" stroke=\"#0000ff\" points=\"262.5366,-127.5136 253.1607,-122.5796 257.4133,-132.2835 262.5366,-127.5136\"/>\n",
       "<text text-anchor=\"middle\" x=\"317.7935\" y=\"-144.8\" font-family=\"Times,serif\" font-size=\"14.00\" fill=\"#000000\">yes, missing</text>\n",
       "</g>\n",
       "<!-- 2 -->\n",
       "<g id=\"node3\" class=\"node\">\n",
       "<title>2</title>\n",
       "<ellipse fill=\"#78cb0e\" stroke=\"#000000\" cx=\"400.7935\" cy=\"-105\" rx=\"59.2899\" ry=\"18\"/>\n",
       "<text text-anchor=\"middle\" x=\"400.7935\" y=\"-101.3\" font-family=\"Times,serif\" font-size=\"14.00\" fill=\"#000000\">weight&lt;2217</text>\n",
       "</g>\n",
       "<!-- 0&#45;&gt;2 -->\n",
       "<g id=\"edge2\" class=\"edge\">\n",
       "<title>0&#45;&gt;2</title>\n",
       "<path fill=\"none\" stroke=\"#ff0000\" d=\"M337.647,-174.4772C343.915,-168.7343 350.7725,-162.2266 356.7935,-156 364.5554,-147.9731 372.6483,-138.839 379.7456,-130.5403\"/>\n",
       "<polygon fill=\"#ff0000\" stroke=\"#ff0000\" points=\"382.4186,-132.7997 386.2017,-122.9033 377.0729,-128.2805 382.4186,-132.7997\"/>\n",
       "<text text-anchor=\"middle\" x=\"378.2935\" y=\"-144.8\" font-family=\"Times,serif\" font-size=\"14.00\" fill=\"#000000\">no</text>\n",
       "</g>\n",
       "<!-- 3 -->\n",
       "<g id=\"node4\" class=\"node\">\n",
       "<title>3</title>\n",
       "<ellipse fill=\"#e48038\" stroke=\"#000000\" cx=\"72.7935\" cy=\"-18\" rx=\"72.5877\" ry=\"18\"/>\n",
       "<text text-anchor=\"middle\" x=\"72.7935\" y=\"-14.3\" font-family=\"Times,serif\" font-size=\"14.00\" fill=\"#000000\">leaf=1.91376626</text>\n",
       "</g>\n",
       "<!-- 1&#45;&gt;3 -->\n",
       "<g id=\"edge3\" class=\"edge\">\n",
       "<title>1&#45;&gt;3</title>\n",
       "<path fill=\"none\" stroke=\"#0000ff\" d=\"M204.52,-89.8415C191.4708,-83.5721 176.3234,-76.1156 162.7935,-69 145.3871,-59.8457 126.4039,-49.1911 110.3781,-39.9947\"/>\n",
       "<polygon fill=\"#0000ff\" stroke=\"#0000ff\" points=\"111.7297,-36.734 101.3183,-34.771 108.2331,-42.7982 111.7297,-36.734\"/>\n",
       "<text text-anchor=\"middle\" x=\"197.7935\" y=\"-57.8\" font-family=\"Times,serif\" font-size=\"14.00\" fill=\"#000000\">yes, missing</text>\n",
       "</g>\n",
       "<!-- 4 -->\n",
       "<g id=\"node5\" class=\"node\">\n",
       "<title>4</title>\n",
       "<ellipse fill=\"#e48038\" stroke=\"#000000\" cx=\"236.7935\" cy=\"-18\" rx=\"72.5877\" ry=\"18\"/>\n",
       "<text text-anchor=\"middle\" x=\"236.7935\" y=\"-14.3\" font-family=\"Times,serif\" font-size=\"14.00\" fill=\"#000000\">leaf=1.37534487</text>\n",
       "</g>\n",
       "<!-- 1&#45;&gt;4 -->\n",
       "<g id=\"edge4\" class=\"edge\">\n",
       "<title>1&#45;&gt;4</title>\n",
       "<path fill=\"none\" stroke=\"#ff0000\" d=\"M236.7935,-86.9735C236.7935,-75.1918 236.7935,-59.5607 236.7935,-46.1581\"/>\n",
       "<polygon fill=\"#ff0000\" stroke=\"#ff0000\" points=\"240.2936,-46.0033 236.7935,-36.0034 233.2936,-46.0034 240.2936,-46.0033\"/>\n",
       "<text text-anchor=\"middle\" x=\"244.2935\" y=\"-57.8\" font-family=\"Times,serif\" font-size=\"14.00\" fill=\"#000000\">no</text>\n",
       "</g>\n",
       "<!-- 5 -->\n",
       "<g id=\"node6\" class=\"node\">\n",
       "<title>5</title>\n",
       "<ellipse fill=\"#e48038\" stroke=\"#000000\" cx=\"400.7935\" cy=\"-18\" rx=\"72.5877\" ry=\"18\"/>\n",
       "<text text-anchor=\"middle\" x=\"400.7935\" y=\"-14.3\" font-family=\"Times,serif\" font-size=\"14.00\" fill=\"#000000\">leaf=3.22532272</text>\n",
       "</g>\n",
       "<!-- 2&#45;&gt;5 -->\n",
       "<g id=\"edge5\" class=\"edge\">\n",
       "<title>2&#45;&gt;5</title>\n",
       "<path fill=\"none\" stroke=\"#0000ff\" d=\"M400.7935,-86.9735C400.7935,-75.1918 400.7935,-59.5607 400.7935,-46.1581\"/>\n",
       "<polygon fill=\"#0000ff\" stroke=\"#0000ff\" points=\"404.2936,-46.0033 400.7935,-36.0034 397.2936,-46.0034 404.2936,-46.0033\"/>\n",
       "<text text-anchor=\"middle\" x=\"435.7935\" y=\"-57.8\" font-family=\"Times,serif\" font-size=\"14.00\" fill=\"#000000\">yes, missing</text>\n",
       "</g>\n",
       "<!-- 6 -->\n",
       "<g id=\"node7\" class=\"node\">\n",
       "<title>6</title>\n",
       "<ellipse fill=\"#e48038\" stroke=\"#000000\" cx=\"545.7935\" cy=\"-18\" rx=\"54.6905\" ry=\"18\"/>\n",
       "<text text-anchor=\"middle\" x=\"545.7935\" y=\"-14.3\" font-family=\"Times,serif\" font-size=\"14.00\" fill=\"#000000\">leaf=2.5625</text>\n",
       "</g>\n",
       "<!-- 2&#45;&gt;6 -->\n",
       "<g id=\"edge6\" class=\"edge\">\n",
       "<title>2&#45;&gt;6</title>\n",
       "<path fill=\"none\" stroke=\"#ff0000\" d=\"M434.5821,-90.0471C447.4275,-83.9803 462.033,-76.6117 474.7935,-69 488.9844,-60.5351 503.9468,-50.0458 516.4577,-40.785\"/>\n",
       "<polygon fill=\"#ff0000\" stroke=\"#ff0000\" points=\"518.7895,-43.4111 524.6878,-34.61 514.5884,-37.8119 518.7895,-43.4111\"/>\n",
       "<text text-anchor=\"middle\" x=\"504.2935\" y=\"-57.8\" font-family=\"Times,serif\" font-size=\"14.00\" fill=\"#000000\">no</text>\n",
       "</g>\n",
       "</g>\n",
       "</svg>\n"
      ],
      "text/plain": [
       "<graphviz.files.Source at 0x7f9bb4753880>"
      ]
     },
     "execution_count": 383,
     "metadata": {},
     "output_type": "execute_result"
    }
   ],
   "source": [
    "reg_xgb = xgb.XGBRegressor(seed = 42,\n",
    "                           objective='reg:squarederror',\n",
    "                           gamma = 0,\n",
    "                           learning_rate = 0.1,\n",
    "                           max_depth = 7,\n",
    "                           min_child_weight = 10,\n",
    "                           reg_lambda = 1,\n",
    "                           subsample = 0.9,\n",
    "                           colsample_bytree = 0.5)\n",
    "\n",
    "reg_xgb.fit(X_train, \n",
    "            y_train, \n",
    "            verbose = False,\n",
    "            eval_metric='mae', # 'rmsle'\n",
    "            early_stopping_rounds=10,\n",
    "            eval_set=[(X_test, y_test)])\n",
    "# bst = reg_xgb.get_booster()\n",
    "# for importance_type in ('weight', 'gain', 'cover', 'total_gain', 'total_cover'):\n",
    "#     print('%s: ' % importance_type, reg_xgb.get_score(importance_type=importance_type))\n",
    "    \n",
    "#https://github.com/dmlc/xgboost/issues/3858\n",
    "node_params = {'share': 'box',\n",
    "               'style': 'filled, rounded',\n",
    "               'fillcolor': '#78cbe'}\n",
    "leaf_params = {'share': 'box',\n",
    "               'style': 'filled',\n",
    "               'fillcolor': '#e48038'}\n",
    "\n",
    "xgb.to_graphviz(reg_xgb, \n",
    "                num_trees=0, \n",
    "                #size='3，3',\n",
    "                condition_node_params=node_params,\n",
    "                leaf_node_params=leaf_params)"
   ]
  },
  {
   "cell_type": "markdown",
   "metadata": {},
   "source": [
    "We can also have a look of the feature importances returned by XGBoost. We see that __displacement__ dominates the other features, standing out as the most important indicator for `mpg`. Following displacement, the other 3 important features are __weight__, __acceleration__, and __horsepower__. "
   ]
  },
  {
   "cell_type": "code",
   "execution_count": 384,
   "metadata": {},
   "outputs": [
    {
     "data": {
      "image/png": "[encoded data removed]",
      "text/plain": [
       "<Figure size 432x288 with 1 Axes>"
      ]
     },
     "metadata": {
      "needs_background": "light"
     },
     "output_type": "display_data"
    }
   ],
   "source": [
    "model = reg_xgb\n",
    "xgb.plot_importance(model)\n",
    "plt.title(\"xgboost.plot_importance(model)\")\n",
    "plt.show()"
   ]
  },
  {
   "cell_type": "markdown",
   "metadata": {},
   "source": [
    "XGBoost also other offers options for measuring feature importance by: \n",
    "- Weight. The number of times a feature is used to split the data across all trees. \n",
    "- Cover. The number of times a feature is used to split the data across all trees weighted by the number of training data points that go through those splits.\n",
    "- Gain. The average training loss reduction gained when using a feature for splitting.\n",
    "\n",
    "Weigth is the default option, so the figure above shows a weight-based importance. Now, let's check out the other two options."
   ]
  },
  {
   "cell_type": "code",
   "execution_count": 385,
   "metadata": {},
   "outputs": [
    {
     "data": {
      "image/png": "[encoded data removed]",
      "text/plain": [
       "<Figure size 432x288 with 1 Axes>"
      ]
     },
     "metadata": {
      "needs_background": "light"
     },
     "output_type": "display_data"
    }
   ],
   "source": [
    "xgb.plot_importance(model, importance_type=\"cover\")\n",
    "plt.title('xgb.plot_importance(model, importance_type=\"cover\")')\n",
    "plt.show()"
   ]
  },
  {
   "cell_type": "code",
   "execution_count": 386,
   "metadata": {},
   "outputs": [
    {
     "data": {
      "image/png": "[encoded data removed]",
      "text/plain": [
       "<Figure size 432x288 with 1 Axes>"
      ]
     },
     "metadata": {
      "needs_background": "light"
     },
     "output_type": "display_data"
    }
   ],
   "source": [
    "xgb.plot_importance(model, importance_type=\"gain\")\n",
    "plt.title('xgb.plot_importance(model, importance_type=\"gain\")')\n",
    "plt.show()"
   ]
  },
  {
   "cell_type": "markdown",
   "metadata": {},
   "source": [
    "Now, you may ask, how XGBoost algorith determines the sequence of feature to split, and how is the __gain__ calculated in the XGBoost model. Let's dive into the basic mathematical details to help us better understand the algorithm."
   ]
  },
  {
   "cell_type": "markdown",
   "metadata": {},
   "source": [
    "## Understanding the Basic Math"
   ]
  },
  {
   "cell_type": "markdown",
   "metadata": {},
   "source": [
    "To demonstrate the mathematical detial behind XGBoost, I will focus on regression and briefly mention the math for classification. First, let's use the first tree we just draw up there to build an intuition about how XGBoost performs regression with its unique tree. \n",
    "\n",
    "The very first step in training an XGBoost model to training data is to make an initial prediction. This prediction is specified by `base_score=0.5`, which means by default the initial prediction is __0.5__ regardless if you are building XGBoost model for regression or classification. Exactly the same as unextreme gradient boost, XGBoost fits a regression tree to the residuals. Unlike unextreme gradient boost which usually uses regular, off-the-shelf, regression trees, XGBoost use a different regression tree which we will call it XGBoost tree. \n",
    "\n",
    "One of the common way to build such a XGBoost tree is that each tree starts with a single leaf, and all of the residuals go to the leaf. Now we can calculate the `Similarity Score` for the leaf. The similarity score is shown as follows:\n",
    "\n",
    "$$  \\text{Similarity Score} = \\sum^{m}  \\frac{(y - \\hat{y})^2}{m + \\lambda}  $$ \n",
    "\n",
    "where $m$ is the number of instances in the leaf, $y$ is true value, $\\hat{y}$ is the predicted value, and $\\lambda$ is the regularization term.\n",
    "\n",
    "For example, we have four instances from training data, their true mpg values $y$, and predicted mpg values $\\hat{y}$ as follows:"
   ]
  },
  {
   "cell_type": "code",
   "execution_count": 387,
   "metadata": {},
   "outputs": [
    {
     "data": {
      "text/plain": [
       "267    1\n",
       "16     0\n",
       "67     0\n",
       "160    0\n",
       "Name: cylinders_4, dtype: uint8"
      ]
     },
     "execution_count": 387,
     "metadata": {},
     "output_type": "execute_result"
    }
   ],
   "source": [
    "X_train[0:4]['cylinders_4']"
   ]
  },
  {
   "cell_type": "code",
   "execution_count": 388,
   "metadata": {},
   "outputs": [
    {
     "data": {
      "text/plain": [
       "array([27.5, 18. , 11. , 17. ])"
      ]
     },
     "execution_count": 388,
     "metadata": {},
     "output_type": "execute_result"
    }
   ],
   "source": [
    "y = y_train[0:4].values\n",
    "y"
   ]
  },
  {
   "cell_type": "code",
   "execution_count": 389,
   "metadata": {},
   "outputs": [
    {
     "data": {
      "text/plain": [
       "array([27.169771, 19.287565, 12.552174, 16.86122 ], dtype=float32)"
      ]
     },
     "execution_count": 389,
     "metadata": {},
     "output_type": "execute_result"
    }
   ],
   "source": [
    "y_hat = y_train_pred[0:4]\n",
    "y_hat "
   ]
  },
  {
   "cell_type": "markdown",
   "metadata": {},
   "source": [
    "Let's calculate the similarity score for the first leaf, we will take $\\lambda = 0$ for now. At the first step our initial prediction for all instances is 0.5."
   ]
  },
  {
   "cell_type": "code",
   "execution_count": 390,
   "metadata": {},
   "outputs": [
    {
     "name": "stdout",
     "output_type": "stream",
     "text": [
      "The similarity score for the root is: 354.43750\n"
     ]
    }
   ],
   "source": [
    "lam = 0\n",
    "m = 4\n",
    "y = y_train[0:4].values\n",
    "y_hat = [0.5] * m\n",
    "SS_root = sum((y-y_hat)**2)/ (m + lam)\n",
    "print('The similarity score for the root is: %.5f'% SS)"
   ]
  },
  {
   "cell_type": "markdown",
   "metadata": {},
   "source": [
    "Now the question is which threshold to use to seperate the instances into tow clusters to do a better job. For the four instances we have in hand, the average of the first two observations on the column 'cylinders_4' is 0.5. So we seperate our observations based on whether or not its __'cylinders_4' < 0.5__. Then the first observation goes to the left leaf, and the other three goes to the right leaf. Now, let's calculate the similarity score for the two new leaf we have.\n",
    "\n",
    "For the leaf one, there is one observation:"
   ]
  },
  {
   "cell_type": "code",
   "execution_count": 391,
   "metadata": {},
   "outputs": [
    {
     "name": "stdout",
     "output_type": "stream",
     "text": [
      "The similarity score for the left leaf is: 729.00000\n"
     ]
    }
   ],
   "source": [
    "SS_left = (y[0] - y_hat[0])**2/ (1 + lam)\n",
    "print('The similarity score for the left leaf is: %.5f'% SS_left )"
   ]
  },
  {
   "cell_type": "markdown",
   "metadata": {},
   "source": [
    "For the right leaf, there are three observations:"
   ]
  },
  {
   "cell_type": "code",
   "execution_count": 392,
   "metadata": {},
   "outputs": [
    {
     "name": "stdout",
     "output_type": "stream",
     "text": [
      "The similarity score for the right leaf is: 229.58333\n"
     ]
    }
   ],
   "source": [
    "SS_right = sum((y[1:] -  y_hat[1:])**2)/ (3 + lam)\n",
    "print('The similarity score for the right leaf is: %.5f'% SS_right )"
   ]
  },
  {
   "cell_type": "markdown",
   "metadata": {},
   "source": [
    "Now we have the similarity for each node. Let's quantify how much better the leaves cluster similar residuals than the root by calculate the `Gain`. The Gain is simple the sum of the similarity score for the leaves minus the similarity score for the root. In this case, our gian is:"
   ]
  },
  {
   "cell_type": "code",
   "execution_count": 393,
   "metadata": {},
   "outputs": [
    {
     "data": {
      "text/plain": [
       "604.1458333333334"
      ]
     },
     "execution_count": 393,
     "metadata": {},
     "output_type": "execute_result"
    }
   ],
   "source": [
    "gain = SS_left + SS_right - SS_root\n",
    "gain"
   ]
  },
  {
   "cell_type": "markdown",
   "metadata": {},
   "source": [
    "Since there are only 2 values for the column `cylinders_4`, 0.5 will be the final threshold we will use. However, if we are going to continue building the tree, like the one we draw, by splitting the observations based on `weight`, we need to calculate the gain of each of the three thresholds and then pick the one with the highest gain.\n",
    "\n",
    "To calculate the __Output Values__, the following equation is used:\n",
    "\n",
    "$$ \\text{Output values} =  \\sum^{m}  \\frac{(y - \\hat{y})}{m + \\lambda} $$\n"
   ]
  },
  {
   "cell_type": "markdown",
   "metadata": {},
   "source": [
    "Now, let's assume we build the first XGBoost tree with only splitting on the feature cylinders_4, let try to see how thr output values will be:"
   ]
  },
  {
   "cell_type": "code",
   "execution_count": 394,
   "metadata": {},
   "outputs": [
    {
     "name": "stdout",
     "output_type": "stream",
     "text": [
      "The predicted value for the left leaf is 27.00000\n",
      "The predicted value for the right leaf is 14.83333\n",
      "The true value for these 4 observations are: [27.5 18.  11.  17. ]\n"
     ]
    }
   ],
   "source": [
    "output_left = (y[0] - y_hat[0])/(1 + lam)\n",
    "output_right =  sum(y[1:] -  y_hat[1:])/ (3 + lam)\n",
    "print('The predicted value for the left leaf is %.5f'% output_left)\n",
    "print('The predicted value for the right leaf is %.5f'% output_right)\n",
    "print('The true value for these 4 observations are:', y)"
   ]
  },
  {
   "cell_type": "markdown",
   "metadata": {},
   "source": [
    "We can see with this extremely simple tree we are reaching a fairly good prediction for the 4 examples. So far, we have learned that XGBoost starts with an initial prediction of 0.5 for both regression and classification. We also learned to evaluate how good the initial prediction is by calculating the residuals, i,e., the difference between the true value and the predicted value. Just like any cannonical machine learning algorithm, we can use a __Loss Function__ to quantify how good our predciton is. \n",
    "\n",
    "For XGBoost regression:\n",
    "\n",
    "$$ L(y, \\hat{y}) = \\sum^{m}_{m=0} \\frac{1}{2}(y-\\hat{y})^2 + \\frac{1}{2} \\lambda O^2_{value}$$\n",
    "\n",
    "For XGBoost classification: \n",
    "\n",
    "$$ L(y, \\hat{y}) = -\\sum^{m}_{m=0} [y\\log(\\hat{y}) + (1-y)\\log(1-\\hat{y})] $$\n",
    "\n",
    "The first part is the loss funciton, the second part is composed of a regularization term $\\lambda$ and  XGBoost builds trees by minimizing the loss functions. For more nitty gritty of the mathematical details, please check out the original xgboost paper and tutorials designed for this, for example, this following link does a good job: https://medium.com/analytics-vidhya/what-makes-xgboost-so-extreme-e1544a4433bb"
   ]
  },
  {
   "cell_type": "markdown",
   "metadata": {},
   "source": [
    "## Summary and references\n",
    "\n",
    "This tutorial demonstrated how to build an __XGBoost__ model for __regression__ problem and how to evalute and optimize the model with __Auto MPG Data Set__ in Pyhton. Basic __math__ detials behind the model are explained briefly with four observations from the data set. Much more detail about the XGBoost libraries and questions are available from the following links.\n",
    "\n",
    "1. XGBoost: https://github.com/dmlc/xgboost\n",
    "2. Auto MPG Data Set: http://archive.ics.uci.edu/ml/datasets/Auto+MPG\n",
    "3. The original XGBoost paper: https://arxiv.org/pdf/1603.02754.pdf\n",
    "4. XGBoost documentation: https://xgboost.readthedocs.io/en/latest/\n"
   ]
  }
 ],
 "metadata": {
  "kernelspec": {
   "display_name": "Python 3",
   "language": "python",
   "name": "python3"
  },
  "language_info": {
   "codemirror_mode": {
    "name": "ipython",
    "version": 3
   },
   "file_extension": ".py",
   "mimetype": "text/x-python",
   "name": "python",
   "nbconvert_exporter": "python",
   "pygments_lexer": "ipython3",
   "version": "3.8.8"
  }
 },
 "nbformat": 4,
 "nbformat_minor": 2
}
